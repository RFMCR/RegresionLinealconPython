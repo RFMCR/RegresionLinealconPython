{
  "nbformat": 4,
  "nbformat_minor": 0,
  "metadata": {
    "colab": {
      "name": "LinearRegresionAlgorithm.ipynb",
      "provenance": [],
      "collapsed_sections": [],
      "authorship_tag": "ABX9TyOMcLae8GomRP9m3ricIii4",
      "include_colab_link": true
    },
    "kernelspec": {
      "name": "python3",
      "display_name": "Python 3"
    },
    "language_info": {
      "name": "python"
    }
  },
  "cells": [
    {
      "cell_type": "markdown",
      "metadata": {
        "id": "view-in-github",
        "colab_type": "text"
      },
      "source": [
        "<a href=\"https://colab.research.google.com/github/RFMCR/RegresionLinealconPython/blob/main/LinearRegresionAlgorithm.ipynb\" target=\"_parent\"><img src=\"https://colab.research.google.com/assets/colab-badge.svg\" alt=\"Open In Colab\"/></a>"
      ]
    },
    {
      "cell_type": "code",
      "metadata": {
        "colab": {
          "base_uri": "https://localhost:8080/",
          "height": 297
        },
        "id": "Kl7ylHfICQph",
        "outputId": "a57c3891-e922-44d2-9ebd-398e6731f7b9"
      },
      "source": [
        "import numpy as np\n",
        "import matplotlib.pyplot as plt\n",
        "\n",
        "def estimate_b0_b1(x,y):\n",
        "    n=np.size(x)\n",
        "\n",
        "    #obtener los promedios de x y Y\n",
        "    media_x, media_y = np.mean(x), np.mean(y)\n",
        "\n",
        "    #calcular sumatoria de xY y de XX\n",
        "    Sumatoria_xy = np.sum((x-media_x)*(y-media_y))\n",
        "    Sumatoria_xx = np.sum(x*(x-media_x))\n",
        "\n",
        "    #Coeficientes de regresion\n",
        "    b_1 = Sumatoria_xy / Sumatoria_xx\n",
        "    b_0 = media_y - b_1 * media_x\n",
        "\n",
        "    return (b_0, b_1)\n",
        "\n",
        "\n",
        "#funcion de graficado\n",
        "def plot_regression(x,y,b):\n",
        "    plt.scatter(x,y, color=\"g\", marker=\"o\", s=30)\n",
        "\n",
        "    y_pred = b[0] + b[1]*x\n",
        "    plt.plot(x,y_pred, color = \"b\")\n",
        "\n",
        "    #Etiquetado\n",
        "    plt.xlabel('x-Independiente')\n",
        "    plt.ylabel('x-Dependiente')\n",
        "    plt.show()\n",
        "\n",
        "\n",
        "#Codigo Main\n",
        "def main():\n",
        "      #DATASET\n",
        "      x = np.array([1,2,3,4,5])\n",
        "      y = np.array([2,3,5,6,5])\n",
        "\n",
        "      #Obtenemos b1 y b2\n",
        "      b= estimate_b0_b1(x,y)\n",
        "      print(\"Los valores b0 = {}, b1={}\".format(b[0],b[1]))\n",
        "\n",
        "      #Graficamos nuestra linea de regresion\n",
        "      plot_regression(x,y,b)\n",
        "\n",
        "if __name__ == \"__main__\":\n",
        "    main()"
      ],
      "execution_count": null,
      "outputs": [
        {
          "output_type": "stream",
          "text": [
            "Los valores b0 = 1.5, b1=0.9\n"
          ],
          "name": "stdout"
        },
        {
          "output_type": "display_data",
          "data": {
            "image/png": "[encoded data removed]",
            "text/plain": [
              "<Figure size 432x288 with 1 Axes>"
            ]
          },
          "metadata": {
            "tags": [],
            "needs_background": "light"
          }
        }
      ]
    }
  ]
}